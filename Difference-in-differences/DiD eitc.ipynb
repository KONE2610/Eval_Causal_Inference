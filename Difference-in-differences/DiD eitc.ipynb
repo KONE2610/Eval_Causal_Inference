{
 "cells": [
  {
   "cell_type": "code",
   "execution_count": 1,
   "id": "9c067ab9",
   "metadata": {},
   "outputs": [],
   "source": [
    "#import des librairies\n",
    "import numpy as np\n",
    "import pandas as pd"
   ]
  },
  {
   "cell_type": "code",
   "execution_count": 2,
   "id": "a4cc0bd4",
   "metadata": {},
   "outputs": [],
   "source": [
    "#Charger le dataset\n",
    "dataset = pd.read_stata(\"eitc.dta\")"
   ]
  },
  {
   "cell_type": "code",
   "execution_count": 3,
   "id": "214651e6",
   "metadata": {},
   "outputs": [
    {
     "data": {
      "text/html": [
       "<div>\n",
       "<style scoped>\n",
       "    .dataframe tbody tr th:only-of-type {\n",
       "        vertical-align: middle;\n",
       "    }\n",
       "\n",
       "    .dataframe tbody tr th {\n",
       "        vertical-align: top;\n",
       "    }\n",
       "\n",
       "    .dataframe thead th {\n",
       "        text-align: right;\n",
       "    }\n",
       "</style>\n",
       "<table border=\"1\" class=\"dataframe\">\n",
       "  <thead>\n",
       "    <tr style=\"text-align: right;\">\n",
       "      <th></th>\n",
       "      <th>state</th>\n",
       "      <th>year</th>\n",
       "      <th>urate</th>\n",
       "      <th>children</th>\n",
       "      <th>nonwhite</th>\n",
       "      <th>finc</th>\n",
       "      <th>earn</th>\n",
       "      <th>age</th>\n",
       "      <th>ed</th>\n",
       "      <th>work</th>\n",
       "      <th>unearn</th>\n",
       "    </tr>\n",
       "  </thead>\n",
       "  <tbody>\n",
       "    <tr>\n",
       "      <th>0</th>\n",
       "      <td>11.0</td>\n",
       "      <td>1991.0</td>\n",
       "      <td>7.6</td>\n",
       "      <td>0</td>\n",
       "      <td>1</td>\n",
       "      <td>18714.394273</td>\n",
       "      <td>18714.394273</td>\n",
       "      <td>26</td>\n",
       "      <td>10</td>\n",
       "      <td>1</td>\n",
       "      <td>0.000000</td>\n",
       "    </tr>\n",
       "    <tr>\n",
       "      <th>1</th>\n",
       "      <td>12.0</td>\n",
       "      <td>1991.0</td>\n",
       "      <td>7.2</td>\n",
       "      <td>1</td>\n",
       "      <td>0</td>\n",
       "      <td>4838.568282</td>\n",
       "      <td>471.365639</td>\n",
       "      <td>22</td>\n",
       "      <td>9</td>\n",
       "      <td>1</td>\n",
       "      <td>4.367203</td>\n",
       "    </tr>\n",
       "    <tr>\n",
       "      <th>2</th>\n",
       "      <td>13.0</td>\n",
       "      <td>1991.0</td>\n",
       "      <td>6.4</td>\n",
       "      <td>2</td>\n",
       "      <td>0</td>\n",
       "      <td>8178.193833</td>\n",
       "      <td>0.000000</td>\n",
       "      <td>33</td>\n",
       "      <td>11</td>\n",
       "      <td>0</td>\n",
       "      <td>8.178194</td>\n",
       "    </tr>\n",
       "    <tr>\n",
       "      <th>3</th>\n",
       "      <td>14.0</td>\n",
       "      <td>1991.0</td>\n",
       "      <td>9.1</td>\n",
       "      <td>0</td>\n",
       "      <td>1</td>\n",
       "      <td>9369.570485</td>\n",
       "      <td>0.000000</td>\n",
       "      <td>43</td>\n",
       "      <td>11</td>\n",
       "      <td>0</td>\n",
       "      <td>9.369570</td>\n",
       "    </tr>\n",
       "    <tr>\n",
       "      <th>4</th>\n",
       "      <td>15.0</td>\n",
       "      <td>1991.0</td>\n",
       "      <td>8.6</td>\n",
       "      <td>3</td>\n",
       "      <td>1</td>\n",
       "      <td>14706.607930</td>\n",
       "      <td>14706.607930</td>\n",
       "      <td>23</td>\n",
       "      <td>7</td>\n",
       "      <td>1</td>\n",
       "      <td>0.000000</td>\n",
       "    </tr>\n",
       "  </tbody>\n",
       "</table>\n",
       "</div>"
      ],
      "text/plain": [
       "   state    year  urate  children  nonwhite          finc          earn  age  \\\n",
       "0   11.0  1991.0    7.6         0         1  18714.394273  18714.394273   26   \n",
       "1   12.0  1991.0    7.2         1         0   4838.568282    471.365639   22   \n",
       "2   13.0  1991.0    6.4         2         0   8178.193833      0.000000   33   \n",
       "3   14.0  1991.0    9.1         0         1   9369.570485      0.000000   43   \n",
       "4   15.0  1991.0    8.6         3         1  14706.607930  14706.607930   23   \n",
       "\n",
       "   ed  work    unearn  \n",
       "0  10     1  0.000000  \n",
       "1   9     1  4.367203  \n",
       "2  11     0  8.178194  \n",
       "3  11     0  9.369570  \n",
       "4   7     1  0.000000  "
      ]
     },
     "execution_count": 3,
     "metadata": {},
     "output_type": "execute_result"
    }
   ],
   "source": [
    "dataset.head()"
   ]
  },
  {
   "cell_type": "code",
   "execution_count": null,
   "id": "2190c6ad",
   "metadata": {},
   "outputs": [],
   "source": []
  },
  {
   "cell_type": "code",
   "execution_count": 4,
   "id": "8161d50f",
   "metadata": {},
   "outputs": [],
   "source": [
    "#Préparerles variables factices\n",
    "dataset['post93'] = np.where(dataset['year'] > 1993, 1, 0)\n",
    "dataset['mom'] = np.where(dataset['children'] > 0, 1, 0)\n",
    "dataset['mom_post93'] = dataset['mom'] * dataset['post93']"
   ]
  },
  {
   "cell_type": "code",
   "execution_count": 5,
   "id": "654defbd",
   "metadata": {},
   "outputs": [],
   "source": [
    "#Isoler les variables X et Y\n",
    "Y = dataset.loc[:, 'work'].values\n",
    "X = dataset.loc[:, ['post93', 'mom', 'mom_post93']].values"
   ]
  },
  {
   "cell_type": "code",
   "execution_count": 6,
   "id": "8764510a",
   "metadata": {},
   "outputs": [
    {
     "name": "stdout",
     "output_type": "stream",
     "text": [
      "Optimization terminated successfully.\n",
      "         Current function value: 0.686491\n",
      "         Iterations 4\n"
     ]
    },
    {
     "data": {
      "text/html": [
       "<table class=\"simpletable\">\n",
       "<caption>Impact of tax credit on employment - model1</caption>\n",
       "<tr>\n",
       "  <th>Dep. Variable:</th>         <td>Work</td>       <th>  No. Observations:  </th>  <td> 13746</td>  \n",
       "</tr>\n",
       "<tr>\n",
       "  <th>Model:</th>                 <td>Logit</td>      <th>  Df Residuals:      </th>  <td> 13742</td>  \n",
       "</tr>\n",
       "<tr>\n",
       "  <th>Method:</th>                 <td>MLE</td>       <th>  Df Model:          </th>  <td>     3</td>  \n",
       "</tr>\n",
       "<tr>\n",
       "  <th>Date:</th>            <td>Fri, 17 Sep 2021</td> <th>  Pseudo R-squ.:     </th> <td>0.009118</td> \n",
       "</tr>\n",
       "<tr>\n",
       "  <th>Time:</th>                <td>19:35:16</td>     <th>  Log-Likelihood:    </th> <td> -9436.5</td> \n",
       "</tr>\n",
       "<tr>\n",
       "  <th>converged:</th>             <td>True</td>       <th>  LL-Null:           </th> <td> -9523.3</td> \n",
       "</tr>\n",
       "<tr>\n",
       "  <th>Covariance Type:</th>     <td>nonrobust</td>    <th>  LLR p-value:       </th> <td>2.058e-37</td>\n",
       "</tr>\n",
       "</table>\n",
       "<table class=\"simpletable\">\n",
       "<tr>\n",
       "         <td></td>           <th>coef</th>     <th>std err</th>      <th>z</th>      <th>P>|z|</th>  <th>[0.025</th>    <th>0.975]</th>  \n",
       "</tr>\n",
       "<tr>\n",
       "  <th>intercept</th>      <td>    0.3042</td> <td>    0.036</td> <td>    8.443</td> <td> 0.000</td> <td>    0.234</td> <td>    0.375</td>\n",
       "</tr>\n",
       "<tr>\n",
       "  <th>After 1993</th>     <td>   -0.0085</td> <td>    0.053</td> <td>   -0.161</td> <td> 0.872</td> <td>   -0.112</td> <td>    0.095</td>\n",
       "</tr>\n",
       "<tr>\n",
       "  <th>Is mom</th>         <td>   -0.5212</td> <td>    0.047</td> <td>  -10.985</td> <td> 0.000</td> <td>   -0.614</td> <td>   -0.428</td>\n",
       "</tr>\n",
       "<tr>\n",
       "  <th>Mom after 1993</th> <td>    0.1885</td> <td>    0.070</td> <td>    2.708</td> <td> 0.007</td> <td>    0.052</td> <td>    0.325</td>\n",
       "</tr>\n",
       "</table>"
      ],
      "text/plain": [
       "<class 'statsmodels.iolib.summary.Summary'>\n",
       "\"\"\"\n",
       "                 Impact of tax credit on employment - model1                  \n",
       "==============================================================================\n",
       "Dep. Variable:                   Work   No. Observations:                13746\n",
       "Model:                          Logit   Df Residuals:                    13742\n",
       "Method:                           MLE   Df Model:                            3\n",
       "Date:                Fri, 17 Sep 2021   Pseudo R-squ.:                0.009118\n",
       "Time:                        19:35:16   Log-Likelihood:                -9436.5\n",
       "converged:                       True   LL-Null:                       -9523.3\n",
       "Covariance Type:            nonrobust   LLR p-value:                 2.058e-37\n",
       "==================================================================================\n",
       "                     coef    std err          z      P>|z|      [0.025      0.975]\n",
       "----------------------------------------------------------------------------------\n",
       "intercept          0.3042      0.036      8.443      0.000       0.234       0.375\n",
       "After 1993        -0.0085      0.053     -0.161      0.872      -0.112       0.095\n",
       "Is mom            -0.5212      0.047    -10.985      0.000      -0.614      -0.428\n",
       "Mom after 1993     0.1885      0.070      2.708      0.007       0.052       0.325\n",
       "==================================================================================\n",
       "\"\"\""
      ]
     },
     "execution_count": 6,
     "metadata": {},
     "output_type": "execute_result"
    }
   ],
   "source": [
    "#Entrainer la régression logistique\n",
    "import statsmodels.api as sm\n",
    "X = sm.add_constant(X)\n",
    "model1 = sm.Logit(Y, X).fit()\n",
    "model1.summary(yname = \"Work\",\n",
    "               xname = (\"intercept\", \"After 1993\", \"Is mom\",\n",
    "                        \"Mom after 1993\"),\n",
    "               title = \"Impact of tax credit on employment - model1\")"
   ]
  },
  {
   "cell_type": "code",
   "execution_count": 7,
   "id": "d80064db",
   "metadata": {},
   "outputs": [],
   "source": [
    "#Isoler variables X and Y  partie 2\n",
    "X = dataset.loc[:, ['post93', 'mom', 'mom_post93',\n",
    "                    'nonwhite','ed']].values"
   ]
  },
  {
   "cell_type": "code",
   "execution_count": 8,
   "id": "1c5e7882",
   "metadata": {},
   "outputs": [
    {
     "name": "stdout",
     "output_type": "stream",
     "text": [
      "Optimization terminated successfully.\n",
      "         Current function value: 0.680664\n",
      "         Iterations 4\n"
     ]
    },
    {
     "data": {
      "text/html": [
       "<table class=\"simpletable\">\n",
       "<caption>Impact of tax credit on employment - model2</caption>\n",
       "<tr>\n",
       "  <th>Dep. Variable:</th>         <td>Work</td>       <th>  No. Observations:  </th>  <td> 13746</td>  \n",
       "</tr>\n",
       "<tr>\n",
       "  <th>Model:</th>                 <td>Logit</td>      <th>  Df Residuals:      </th>  <td> 13740</td>  \n",
       "</tr>\n",
       "<tr>\n",
       "  <th>Method:</th>                 <td>MLE</td>       <th>  Df Model:          </th>  <td>     5</td>  \n",
       "</tr>\n",
       "<tr>\n",
       "  <th>Date:</th>            <td>Fri, 17 Sep 2021</td> <th>  Pseudo R-squ.:     </th>  <td>0.01753</td> \n",
       "</tr>\n",
       "<tr>\n",
       "  <th>Time:</th>                <td>19:43:45</td>     <th>  Log-Likelihood:    </th> <td> -9356.4</td> \n",
       "</tr>\n",
       "<tr>\n",
       "  <th>converged:</th>             <td>True</td>       <th>  LL-Null:           </th> <td> -9523.3</td> \n",
       "</tr>\n",
       "<tr>\n",
       "  <th>Covariance Type:</th>     <td>nonrobust</td>    <th>  LLR p-value:       </th> <td>5.205e-70</td>\n",
       "</tr>\n",
       "</table>\n",
       "<table class=\"simpletable\">\n",
       "<tr>\n",
       "           <td></td>             <th>coef</th>     <th>std err</th>      <th>z</th>      <th>P>|z|</th>  <th>[0.025</th>    <th>0.975]</th>  \n",
       "</tr>\n",
       "<tr>\n",
       "  <th>intercept</th>          <td>   -0.1687</td> <td>    0.071</td> <td>   -2.367</td> <td> 0.018</td> <td>   -0.308</td> <td>   -0.029</td>\n",
       "</tr>\n",
       "<tr>\n",
       "  <th>After 1993</th>         <td>   -0.0046</td> <td>    0.053</td> <td>   -0.086</td> <td> 0.932</td> <td>   -0.108</td> <td>    0.099</td>\n",
       "</tr>\n",
       "<tr>\n",
       "  <th>Is mom</th>             <td>   -0.5287</td> <td>    0.048</td> <td>  -10.986</td> <td> 0.000</td> <td>   -0.623</td> <td>   -0.434</td>\n",
       "</tr>\n",
       "<tr>\n",
       "  <th>Mom after 1993</th>     <td>    0.1973</td> <td>    0.070</td> <td>    2.817</td> <td> 0.005</td> <td>    0.060</td> <td>    0.335</td>\n",
       "</tr>\n",
       "<tr>\n",
       "  <th>Hispanic or Black</th>  <td>   -0.2199</td> <td>    0.036</td> <td>   -6.129</td> <td> 0.000</td> <td>   -0.290</td> <td>   -0.150</td>\n",
       "</tr>\n",
       "<tr>\n",
       "  <th>Years of education</th> <td>    0.0687</td> <td>    0.007</td> <td>   10.270</td> <td> 0.000</td> <td>    0.056</td> <td>    0.082</td>\n",
       "</tr>\n",
       "</table>"
      ],
      "text/plain": [
       "<class 'statsmodels.iolib.summary.Summary'>\n",
       "\"\"\"\n",
       "                 Impact of tax credit on employment - model2                  \n",
       "==============================================================================\n",
       "Dep. Variable:                   Work   No. Observations:                13746\n",
       "Model:                          Logit   Df Residuals:                    13740\n",
       "Method:                           MLE   Df Model:                            5\n",
       "Date:                Fri, 17 Sep 2021   Pseudo R-squ.:                 0.01753\n",
       "Time:                        19:43:45   Log-Likelihood:                -9356.4\n",
       "converged:                       True   LL-Null:                       -9523.3\n",
       "Covariance Type:            nonrobust   LLR p-value:                 5.205e-70\n",
       "======================================================================================\n",
       "                         coef    std err          z      P>|z|      [0.025      0.975]\n",
       "--------------------------------------------------------------------------------------\n",
       "intercept             -0.1687      0.071     -2.367      0.018      -0.308      -0.029\n",
       "After 1993            -0.0046      0.053     -0.086      0.932      -0.108       0.099\n",
       "Is mom                -0.5287      0.048    -10.986      0.000      -0.623      -0.434\n",
       "Mom after 1993         0.1973      0.070      2.817      0.005       0.060       0.335\n",
       "Hispanic or Black     -0.2199      0.036     -6.129      0.000      -0.290      -0.150\n",
       "Years of education     0.0687      0.007     10.270      0.000       0.056       0.082\n",
       "======================================================================================\n",
       "\"\"\""
      ]
     },
     "execution_count": 8,
     "metadata": {},
     "output_type": "execute_result"
    }
   ],
   "source": [
    "#Entrainer la régression logistique\n",
    "import statsmodels.api as sm\n",
    "X = sm.add_constant(X)\n",
    "model2 = sm.Logit(Y, X).fit()\n",
    "model2.summary(yname = \"Work\",\n",
    "               xname = (\"intercept\", \"After 1993\", \"Is mom\",\n",
    "                        \"Mom after 1993\", \"Hispanic or Black\",\n",
    "                        \"Years of education\"),\n",
    "               title = \"Impact of tax credit on employment - model2\")"
   ]
  },
  {
   "cell_type": "code",
   "execution_count": null,
   "id": "f1f6b1ab",
   "metadata": {},
   "outputs": [],
   "source": []
  },
  {
   "cell_type": "markdown",
   "id": "d3829299",
   "metadata": {},
   "source": [
    "Mise en oeuvre de l'essai placebo"
   ]
  },
  {
   "cell_type": "code",
   "execution_count": 9,
   "id": "0114d32a",
   "metadata": {},
   "outputs": [],
   "source": [
    "#Preparer les variables factices for pour le test de placebo\n",
    "dataset['post92'] = np.where(dataset['year'] > 1992, 1, 0)\n",
    "dataset['mom_post92'] = dataset['mom'] * dataset['post92']"
   ]
  },
  {
   "cell_type": "code",
   "execution_count": 11,
   "id": "22d72315",
   "metadata": {},
   "outputs": [],
   "source": [
    "#Préparer le dataset pour le test de placebo \n",
    "dataset_placebo = dataset[dataset['year'] < 1994]"
   ]
  },
  {
   "cell_type": "code",
   "execution_count": 12,
   "id": "e623afba",
   "metadata": {},
   "outputs": [],
   "source": [
    "#Isoler les variables X et Y  pour le test de placebo \n",
    "Y_placebo = dataset_placebo.loc[:, 'work'].values\n",
    "X_placebo = dataset_placebo.loc[:, ['post92', 'mom', 'mom_post92']].values"
   ]
  },
  {
   "cell_type": "code",
   "execution_count": 13,
   "id": "7814454b",
   "metadata": {},
   "outputs": [
    {
     "name": "stdout",
     "output_type": "stream",
     "text": [
      "Optimization terminated successfully.\n",
      "         Current function value: 0.684872\n",
      "         Iterations 4\n"
     ]
    },
    {
     "data": {
      "text/html": [
       "<table class=\"simpletable\">\n",
       "<caption>Impact of tax credit on employment - model placebo</caption>\n",
       "<tr>\n",
       "  <th>Dep. Variable:</th>         <td>Work</td>       <th>  No. Observations:  </th>  <td>  7401</td>  \n",
       "</tr>\n",
       "<tr>\n",
       "  <th>Model:</th>                 <td>Logit</td>      <th>  Df Residuals:      </th>  <td>  7397</td>  \n",
       "</tr>\n",
       "<tr>\n",
       "  <th>Method:</th>                 <td>MLE</td>       <th>  Df Model:          </th>  <td>     3</td>  \n",
       "</tr>\n",
       "<tr>\n",
       "  <th>Date:</th>            <td>Fri, 17 Sep 2021</td> <th>  Pseudo R-squ.:     </th>  <td>0.01193</td> \n",
       "</tr>\n",
       "<tr>\n",
       "  <th>Time:</th>                <td>20:07:25</td>     <th>  Log-Likelihood:    </th> <td> -5068.7</td> \n",
       "</tr>\n",
       "<tr>\n",
       "  <th>converged:</th>             <td>True</td>       <th>  LL-Null:           </th> <td> -5130.0</td> \n",
       "</tr>\n",
       "<tr>\n",
       "  <th>Covariance Type:</th>     <td>nonrobust</td>    <th>  LLR p-value:       </th> <td>2.290e-26</td>\n",
       "</tr>\n",
       "</table>\n",
       "<table class=\"simpletable\">\n",
       "<tr>\n",
       "         <td></td>           <th>coef</th>     <th>std err</th>      <th>z</th>      <th>P>|z|</th>  <th>[0.025</th>    <th>0.975]</th>  \n",
       "</tr>\n",
       "<tr>\n",
       "  <th>intercept</th>      <td>    0.3124</td> <td>    0.044</td> <td>    7.154</td> <td> 0.000</td> <td>    0.227</td> <td>    0.398</td>\n",
       "</tr>\n",
       "<tr>\n",
       "  <th>After 1992</th>     <td>   -0.0259</td> <td>    0.077</td> <td>   -0.335</td> <td> 0.737</td> <td>   -0.177</td> <td>    0.126</td>\n",
       "</tr>\n",
       "<tr>\n",
       "  <th>Is mom</th>         <td>   -0.5138</td> <td>    0.057</td> <td>   -8.950</td> <td> 0.000</td> <td>   -0.626</td> <td>   -0.401</td>\n",
       "</tr>\n",
       "<tr>\n",
       "  <th>Mom after 1992</th> <td>   -0.0239</td> <td>    0.102</td> <td>   -0.234</td> <td> 0.815</td> <td>   -0.224</td> <td>    0.176</td>\n",
       "</tr>\n",
       "</table>"
      ],
      "text/plain": [
       "<class 'statsmodels.iolib.summary.Summary'>\n",
       "\"\"\"\n",
       "              Impact of tax credit on employment - model placebo              \n",
       "==============================================================================\n",
       "Dep. Variable:                   Work   No. Observations:                 7401\n",
       "Model:                          Logit   Df Residuals:                     7397\n",
       "Method:                           MLE   Df Model:                            3\n",
       "Date:                Fri, 17 Sep 2021   Pseudo R-squ.:                 0.01193\n",
       "Time:                        20:07:25   Log-Likelihood:                -5068.7\n",
       "converged:                       True   LL-Null:                       -5130.0\n",
       "Covariance Type:            nonrobust   LLR p-value:                 2.290e-26\n",
       "==================================================================================\n",
       "                     coef    std err          z      P>|z|      [0.025      0.975]\n",
       "----------------------------------------------------------------------------------\n",
       "intercept          0.3124      0.044      7.154      0.000       0.227       0.398\n",
       "After 1992        -0.0259      0.077     -0.335      0.737      -0.177       0.126\n",
       "Is mom            -0.5138      0.057     -8.950      0.000      -0.626      -0.401\n",
       "Mom after 1992    -0.0239      0.102     -0.234      0.815      -0.224       0.176\n",
       "==================================================================================\n",
       "\"\"\""
      ]
     },
     "execution_count": 13,
     "metadata": {},
     "output_type": "execute_result"
    }
   ],
   "source": [
    "#Entrainer la régression logistique\n",
    "import statsmodels.api as sm\n",
    "X_placebo = sm.add_constant(X_placebo)\n",
    "model_placebo = sm.Logit(Y_placebo, X_placebo).fit()\n",
    "model_placebo.summary(yname = \"Work\",\n",
    "               xname = (\"intercept\", \"After 1992\", \"Is mom\",\n",
    "                        \"Mom after 1992\"),\n",
    "               title = \"Impact of tax credit on employment - model placebo\")\n"
   ]
  },
  {
   "cell_type": "code",
   "execution_count": null,
   "id": "64fd9cb3",
   "metadata": {},
   "outputs": [],
   "source": []
  }
 ],
 "metadata": {
  "kernelspec": {
   "display_name": "Python 3 (ipykernel)",
   "language": "python",
   "name": "python3"
  },
  "language_info": {
   "codemirror_mode": {
    "name": "ipython",
    "version": 3
   },
   "file_extension": ".py",
   "mimetype": "text/x-python",
   "name": "python",
   "nbconvert_exporter": "python",
   "pygments_lexer": "ipython3",
   "version": "3.7.11"
  }
 },
 "nbformat": 4,
 "nbformat_minor": 5
}
